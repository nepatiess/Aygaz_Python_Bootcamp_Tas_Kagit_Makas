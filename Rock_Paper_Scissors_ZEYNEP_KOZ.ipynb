{
  "nbformat": 4,
  "nbformat_minor": 0,
  "metadata": {
    "colab": {
      "provenance": [],
      "include_colab_link": true
    },
    "kernelspec": {
      "name": "python3",
      "display_name": "Python 3"
    },
    "language_info": {
      "name": "python"
    }
  },
  "cells": [
    {
      "cell_type": "markdown",
      "metadata": {
        "id": "view-in-github",
        "colab_type": "text"
      },
      "source": [
        "<a href=\"https://colab.research.google.com/github/nepatiess/Tas_Kagit_Makas/blob/main/Rock_Paper_Scissors_ZEYNEP_KOZ.ipynb\" target=\"_parent\"><img src=\"https://colab.research.google.com/assets/colab-badge.svg\" alt=\"Open In Colab\"/></a>"
      ]
    },
    {
      "cell_type": "code",
      "source": [
        "import random\n",
        "import time\n",
        "\n",
        "def rock_paper_scissors_Zeynep_Koz():\n",
        "    time.sleep(2)\n",
        "    print(\"----------------------------------------------------------------------------------\")\n",
        "    print(\"Nature always finds balance. Humanity must learn to live without disturbing this balance.\")\n",
        "    print(\"----------------------------------------------------------------------------------\")\n",
        "    time.sleep(2)\n",
        "    print(\"Welcome! This game is played using the elements of Ice, Fire, and Water.\")\n",
        "    print(\"Rules:\")\n",
        "    print(\"Ice: Freezes Water, but is melted by Fire.\")\n",
        "    print(\"Fire: Melts Ice, but is extinguished by Water.\")\n",
        "    print(\"Water: Extinguishes Fire, but is frozen by Ice.\")\n",
        "    print(\"----------------------------------------------------------------------------------\")\n",
        "    time.sleep(2)\n",
        "    print(\"The first to win two rounds wins the game.\")\n",
        "    print(\"Type 'Exit' to leave the game.\")\n",
        "\n",
        "    elements = [\"ice\", \"fire\", \"water\"]\n",
        "    rounds_played = 0\n",
        "    player_wins = 0\n",
        "    computer_wins = 0\n",
        "\n",
        "    while True:\n",
        "        rounds_played = 0\n",
        "        player_wins = 0\n",
        "        computer_wins = 0\n",
        "\n",
        "        while player_wins < 2 and computer_wins < 2:\n",
        "            time.sleep(2)\n",
        "            print(\"----------------------------------------------------------------------------------\")\n",
        "            print(f\"Round {rounds_played + 1}:\")\n",
        "            player_choice = input(\"Make your choice (ice, fire, water): \").lower()\n",
        "\n",
        "            if player_choice == \"exit\":\n",
        "                print(\"You have exited the game. Thank you!\")\n",
        "                return\n",
        "\n",
        "            if player_choice not in elements:\n",
        "                print(\"Invalid choice. Please choose ice, fire, or water.\")\n",
        "                continue\n",
        "\n",
        "            computer_choice = random.choice(elements)\n",
        "            print(f\"Computer's choice: {computer_choice}\")\n",
        "\n",
        "            if player_choice == computer_choice:\n",
        "                print(\"It's a tie!\")\n",
        "            elif (player_choice == \"ice\" and computer_choice == \"water\") or \\\n",
        "                 (player_choice == \"water\" and computer_choice == \"fire\") or \\\n",
        "                 (player_choice == \"fire\" and computer_choice == \"ice\"):\n",
        "                print(\"You won this round!\")\n",
        "                player_wins += 1\n",
        "            else:\n",
        "                print(\"The computer won this round!\")\n",
        "                computer_wins += 1\n",
        "\n",
        "            rounds_played += 1\n",
        "            print(f\"Score: You {player_wins}, Computer {computer_wins}\\n\")\n",
        "\n",
        "        if player_wins == 2:\n",
        "            time.sleep(2)\n",
        "            print(\"----------------------------------------------------------------------------------\")\n",
        "            print(\"Congratulations! You won the game!\")\n",
        "        else:\n",
        "            print(\"Unfortunately, the computer won the game.\")\n",
        "\n",
        "        play_again = input(\"Would you like to play another game? (yes/no): \").lower()\n",
        "        if play_again != \"yes\":\n",
        "            print(\"You have exited the game. Thank you!\")\n",
        "            break\n",
        "\n",
        "        computer_play_again = random.choice([\"yes\", \"no\"])\n",
        "        time.sleep(2)\n",
        "        print(\"----------------------------------------------------------------------------------\")\n",
        "        print(f\"The computer {'wants to continue playing.' if computer_play_again == 'yes' else 'does not want to continue playing.'}\")\n",
        "\n",
        "        if computer_play_again != \"yes\":\n",
        "            print(\"The computer doesn't want to continue, so the game has ended. Thank you!\")\n",
        "            break\n"
      ],
      "metadata": {
        "id": "e2opfIhG8bo0"
      },
      "execution_count": 3,
      "outputs": []
    },
    {
      "cell_type": "code",
      "source": [
        "rock_paper_scissors_Zeynep_Koz()"
      ],
      "metadata": {
        "colab": {
          "base_uri": "https://localhost:8080/"
        },
        "id": "stIB0jZU8lMU",
        "outputId": "6d2084fd-6ea3-47ad-90ff-94ad023109bc"
      },
      "execution_count": 5,
      "outputs": [
        {
          "output_type": "stream",
          "name": "stdout",
          "text": [
            "----------------------------------------------------------------------------------\n",
            "Nature always finds balance. Humanity must learn to live without disturbing this balance.\n",
            "----------------------------------------------------------------------------------\n",
            "Welcome! This game is played using the elements of Ice, Fire, and Water.\n",
            "Rules:\n",
            "Ice: Freezes Water, but is melted by Fire.\n",
            "Fire: Melts Ice, but is extinguished by Water.\n",
            "Water: Extinguishes Fire, but is frozen by Ice.\n",
            "----------------------------------------------------------------------------------\n",
            "The first to win two rounds wins the game.\n",
            "Type 'Exit' to leave the game.\n",
            "----------------------------------------------------------------------------------\n",
            "Round 1:\n",
            "Make your choice (ice, fire, water): ice\n",
            "Computer's choice: fire\n",
            "The computer won this round!\n",
            "Score: You 0, Computer 1\n",
            "\n",
            "----------------------------------------------------------------------------------\n",
            "Round 2:\n",
            "Make your choice (ice, fire, water): fire\n",
            "Computer's choice: fire\n",
            "It's a tie!\n",
            "Score: You 0, Computer 1\n",
            "\n",
            "----------------------------------------------------------------------------------\n",
            "Round 3:\n",
            "Make your choice (ice, fire, water): water\n",
            "Computer's choice: water\n",
            "It's a tie!\n",
            "Score: You 0, Computer 1\n",
            "\n",
            "----------------------------------------------------------------------------------\n",
            "Round 4:\n",
            "Make your choice (ice, fire, water): ice\n",
            "Computer's choice: water\n",
            "You won this round!\n",
            "Score: You 1, Computer 1\n",
            "\n",
            "----------------------------------------------------------------------------------\n",
            "Round 5:\n",
            "Make your choice (ice, fire, water): fire\n",
            "Computer's choice: fire\n",
            "It's a tie!\n",
            "Score: You 1, Computer 1\n",
            "\n",
            "----------------------------------------------------------------------------------\n",
            "Round 6:\n",
            "Make your choice (ice, fire, water): water\n",
            "Computer's choice: ice\n",
            "The computer won this round!\n",
            "Score: You 1, Computer 2\n",
            "\n",
            "Unfortunately, the computer won the game.\n",
            "Would you like to play another game? (yes/no): no\n",
            "You have exited the game. Thank you!\n"
          ]
        }
      ]
    }
  ]
}